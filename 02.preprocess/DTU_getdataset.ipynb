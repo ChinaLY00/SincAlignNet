{
 "cells": [
  {
   "cell_type": "markdown",
   "id": "04a85bfe",
   "metadata": {},
   "source": [
    "# 数据结构解读"
   ]
  },
  {
   "cell_type": "code",
   "execution_count": 1,
   "id": "eda9db12",
   "metadata": {
    "ExecuteTime": {
     "end_time": "2024-12-16T02:32:10.196178Z",
     "start_time": "2024-12-16T02:32:09.812593Z"
    }
   },
   "outputs": [],
   "source": [
    "import scipy.io as sio \n",
    "import h5py, os,mne\n",
    "import numpy as np\n",
    "# , \n",
    "# path = '/home/test/Desktop/python/EEG_data/AAD_dataset/AAD_DTU/EEG'\n",
    "# file_path = os.path.join(path, 'S1_data_preproc.mat')\n",
    "# data = scio.loadmat(file_path)"
   ]
  },
  {
   "cell_type": "code",
   "execution_count": 2,
   "id": "f0700cbf",
   "metadata": {
    "ExecuteTime": {
     "end_time": "2024-12-16T02:32:11.015336Z",
     "start_time": "2024-12-16T02:32:10.319056Z"
    }
   },
   "outputs": [],
   "source": [
    "def load_mat_data(filename):\n",
    "    root = '/home/test/Desktop/python/EEG_data/AAD_dataset/AAD_DTU/EEG'\n",
    "    filepath = os.path.join(root, filename)\n",
    "    \n",
    "    # 读取 .mat 文件\n",
    "    mat = sio.loadmat(filepath)\n",
    "    \n",
    "    eeg_data = mat['data']['eeg'][0,0]\n",
    "    wavA_data = mat['data']['wavA'][0,0]\n",
    "    wavB_data = mat['data']['wavB'][0,0]\n",
    "    event_data = mat['data'][0,0]['event'][0,0]['eeg']['value']\n",
    "    \n",
    "    # 初始化堆叠数据的列表\n",
    "    eeg_stack = []\n",
    "    wavA_stack = []\n",
    "    wavB_stack = []\n",
    "#     event_stack = []\n",
    "    # 遍历每个数据并堆叠\n",
    "    for i in range(60):\n",
    "        eeg_stack.append(eeg_data[0,i])\n",
    "        wavA_stack.append(wavA_data[0,i])\n",
    "        wavB_stack.append(wavB_data[0,i])\n",
    "#         \n",
    "    \n",
    "    # 将列表转换为 numpy 数组，并调整形状\n",
    "    eeg_stack = np.stack(eeg_stack, axis=0)  # (60, 6400, 66)\n",
    "    wavA_stack = np.stack(wavA_stack, axis=0)  # (60, 800000, 1)\n",
    "    wavB_stack = np.stack(wavB_stack, axis=0)  # (60, 800000, 1)\n",
    "#     event_stack = np.array(event_stack).reshape(60, 1)\n",
    "    \n",
    "    # 调整 wavA 和 wavB 的形状为 (60, 1, 800000)\n",
    "    eeg_stack = np.transpose(eeg_stack, (0, 2, 1))\n",
    "    wavA_stack = np.transpose(wavA_stack, (0, 2, 1))\n",
    "    wavB_stack = np.transpose(wavB_stack, (0, 2, 1))\n",
    "    event_data = np.transpose(event_data, (1, 0))\n",
    "    return eeg_stack, wavA_stack, wavB_stack, event_data\n"
   ]
  },
  {
   "cell_type": "code",
   "execution_count": null,
   "id": "289ba1f0",
   "metadata": {},
   "outputs": [],
   "source": []
  },
  {
   "cell_type": "code",
   "execution_count": 3,
   "id": "a72fc60c",
   "metadata": {
    "ExecuteTime": {
     "end_time": "2024-12-16T02:32:23.798080Z",
     "start_time": "2024-12-16T02:32:12.445342Z"
    }
   },
   "outputs": [
    {
     "name": "stdout",
     "output_type": "stream",
     "text": [
      "EEG stack shape: (60, 66, 6400)\n",
      "wavA stack shape: (60, 1, 800000)\n",
      "wavB stack shape: (60, 1, 800000)\n"
     ]
    }
   ],
   "source": [
    "# 示例调用\n",
    "filename = 'S17_data_preproc.mat'\n",
    "eeg_stack, wavA_stack, wavB_stack, event_stack = load_mat_data(filename)\n",
    "\n",
    "print(\"EEG stack shape:\", eeg_stack.shape)      # 期望输出: (60, 66, 6400)\n",
    "print(\"wavA stack shape:\", wavA_stack.shape)    # 期望输出: (60, 1, 800000)\n",
    "print(\"wavB stack shape:\", wavB_stack.shape)    # 期望输出: (60, 1, 800000)\n",
    "# print(\"Event stack shape:\", event_stack)  # 期望输出: (60, 1)"
   ]
  },
  {
   "cell_type": "code",
   "execution_count": null,
   "id": "f81e842b",
   "metadata": {},
   "outputs": [],
   "source": []
  },
  {
   "cell_type": "markdown",
   "id": "598a5f4e",
   "metadata": {},
   "source": [
    "# 数据切片堆叠"
   ]
  },
  {
   "cell_type": "code",
   "execution_count": 3,
   "id": "38e568b4",
   "metadata": {
    "ExecuteTime": {
     "end_time": "2024-11-22T07:59:19.313904Z",
     "start_time": "2024-11-22T07:59:19.309093Z"
    }
   },
   "outputs": [],
   "source": [
    "import numpy as np\n",
    "\n",
    "def slice_data(eeg_stack, wavA_stack, wavB_stack, event_stack, slice_length_sec):\n",
    "    # 采样率\n",
    "    eeg_sample_rate = 128\n",
    "    wav_sample_rate = 16000\n",
    "\n",
    "    # 计算切片步长\n",
    "    eeg_slice_step = int(slice_length_sec * eeg_sample_rate)\n",
    "    wav_slice_step = int(slice_length_sec * wav_sample_rate)\n",
    "    \n",
    "    # 初始化切片数据的列表\n",
    "    eeg_slices = []\n",
    "    wavA_slices = []\n",
    "    wavB_slices = []\n",
    "    event_slices = []\n",
    "    \n",
    "    # 遍历每个实验数据并进行切片\n",
    "    num_trials = eeg_stack.shape[0]\n",
    "    trial_length_eeg = eeg_stack.shape[2]\n",
    "    trial_length_wav = wavA_stack.shape[2]\n",
    "    \n",
    "    for i in range(num_trials):\n",
    "        for j in range(0, trial_length_eeg, eeg_slice_step):\n",
    "            if j + eeg_slice_step <= trial_length_eeg:\n",
    "                eeg_slices.append(eeg_stack[i, :, j:j+eeg_slice_step])\n",
    "        \n",
    "        for j in range(0, trial_length_wav, wav_slice_step):\n",
    "            if j + wav_slice_step <= trial_length_wav:\n",
    "                wavA_slices.append(wavA_stack[i, :, j:j+wav_slice_step])\n",
    "                wavB_slices.append(wavB_stack[i, :, j:j+wav_slice_step])\n",
    "        \n",
    "        # 事件标签重复相应次数\n",
    "        num_slices = trial_length_eeg // eeg_slice_step\n",
    "        event_slices.extend([event_stack[i]] * num_slices)\n",
    "    \n",
    "    # 将列表转换为 numpy 数组，并调整形状\n",
    "    eeg_slices = np.array(eeg_slices)  # (num_slices * num_trials, 66, eeg_slice_step)\n",
    "    wavA_slices = np.array(wavA_slices)  # (num_slices * num_trials, 1, wav_slice_step)\n",
    "    wavB_slices = np.array(wavB_slices)  # (num_slices * num_trials, 1, wav_slice_step)\n",
    "    event_slices = np.array(event_slices).reshape(-1, 1)  # (num_slices * num_trials, 1)\n",
    "    \n",
    "    return eeg_slices, wavA_slices, wavB_slices, event_slices"
   ]
  },
  {
   "cell_type": "code",
   "execution_count": 52,
   "id": "ad1e9e22",
   "metadata": {
    "ExecuteTime": {
     "end_time": "2024-07-31T11:45:01.904581Z",
     "start_time": "2024-07-31T11:44:54.238787Z"
    }
   },
   "outputs": [
    {
     "name": "stdout",
     "output_type": "stream",
     "text": [
      "EEG slices shape: (3000, 66, 128)\n",
      "wavA slices shape: (3000, 1, 16000)\n",
      "wavB slices shape: (3000, 1, 16000)\n",
      "Event slices shape: (3000, 1)\n"
     ]
    }
   ],
   "source": [
    "# 示例调用\n",
    "filename = 'S1_data_preproc.mat'\n",
    "eeg_stack, wavA_stack, wavB_stack, event_stack = load_mat_data(filename)\n",
    "\n",
    "slice_length_sec = 1  # 例如，切片长度为1秒\n",
    "eeg_slices, wavA_slices, wavB_slices, event_slices = slice_data(eeg_stack, wavA_stack, wavB_stack, event_stack, slice_length_sec)\n",
    "\n",
    "print(\"EEG slices shape:\", eeg_slices.shape)      # 期望输出: (3000, 66, 6400)\n",
    "print(\"wavA slices shape:\", wavA_slices.shape)    # 期望输出: (3000, 1, 16000)\n",
    "print(\"wavB slices shape:\", wavB_slices.shape)    # 期望输出: (3000, 1, 16000)\n",
    "print(\"Event slices shape:\", event_slices.shape)  # 期望输出: (3000, 1)"
   ]
  },
  {
   "cell_type": "code",
   "execution_count": null,
   "id": "8df95d63",
   "metadata": {},
   "outputs": [],
   "source": [
    "# filename = 'S1_data_preproc.mat' 下一个是filename = 'S2_data_preproc.mat'。。。一直到filename = 'S18_data_preproc.mat'，"
   ]
  },
  {
   "cell_type": "markdown",
   "id": "e0a938d8",
   "metadata": {},
   "source": [
    "# 保存数据"
   ]
  },
  {
   "cell_type": "markdown",
   "id": "1600a1d1",
   "metadata": {},
   "source": [
    "## 单个被试"
   ]
  },
  {
   "cell_type": "code",
   "execution_count": 5,
   "id": "0c06db41",
   "metadata": {
    "ExecuteTime": {
     "end_time": "2024-11-22T07:59:37.491912Z",
     "start_time": "2024-11-22T07:59:37.488945Z"
    }
   },
   "outputs": [],
   "source": [
    "def process_and_save_all_files(slice_length_sec):\n",
    "    root = '/home/test/Desktop/python/EEG_data/AAD_dataset/AAD_DTU/EEG'\n",
    "    output_dir = '/home/test/Desktop/python/EEG_data/AAD_dataset/AAD_DTU/Processed/Dataset_0_5s'\n",
    "    \n",
    "    if not os.path.exists(output_dir):\n",
    "        os.makedirs(output_dir)\n",
    "    \n",
    "    for i in range(1, 19):\n",
    "        filename = f'S{i}_data_preproc.mat'\n",
    "        eeg_stack, wavA_stack, wavB_stack, event_stack = load_mat_data(filename)\n",
    "        \n",
    "        eeg_slices, wavA_slices, wavB_slices, event_slices = slice_data(eeg_stack, wavA_stack, wavB_stack, event_stack, slice_length_sec)\n",
    "        \n",
    "        output_filename = f'S{i}_Dataset_{int(slice_length_sec)}s.npz'\n",
    "        output_path = os.path.join(output_dir, output_filename)\n",
    "        \n",
    "        np.savez(output_path, eeg_slices=eeg_slices, wavA_slices=wavA_slices, wavB_slices=wavB_slices, event_slices=event_slices)\n",
    "        print(f\"Saved {output_filename}\")"
   ]
  },
  {
   "cell_type": "code",
   "execution_count": 6,
   "id": "fc5c57b1",
   "metadata": {
    "ExecuteTime": {
     "end_time": "2024-11-22T08:09:25.113774Z",
     "start_time": "2024-11-22T07:59:40.873133Z"
    }
   },
   "outputs": [
    {
     "name": "stdout",
     "output_type": "stream",
     "text": [
      "Saved S1_Dataset_0s.npz\n",
      "Saved S2_Dataset_0s.npz\n",
      "Saved S3_Dataset_0s.npz\n",
      "Saved S4_Dataset_0s.npz\n",
      "Saved S5_Dataset_0s.npz\n",
      "Saved S6_Dataset_0s.npz\n",
      "Saved S7_Dataset_0s.npz\n",
      "Saved S8_Dataset_0s.npz\n",
      "Saved S9_Dataset_0s.npz\n",
      "Saved S10_Dataset_0s.npz\n",
      "Saved S11_Dataset_0s.npz\n",
      "Saved S12_Dataset_0s.npz\n",
      "Saved S13_Dataset_0s.npz\n",
      "Saved S14_Dataset_0s.npz\n",
      "Saved S15_Dataset_0s.npz\n",
      "Saved S16_Dataset_0s.npz\n",
      "Saved S17_Dataset_0s.npz\n",
      "Saved S18_Dataset_0s.npz\n"
     ]
    }
   ],
   "source": [
    "# 示例调用\n",
    "slice_length_sec = 0.5  # 例如，切片长度为1秒\n",
    "process_and_save_all_files(slice_length_sec)"
   ]
  }
 ],
 "metadata": {
  "kernelspec": {
   "display_name": "torch",
   "language": "python",
   "name": "torch"
  },
  "language_info": {
   "codemirror_mode": {
    "name": "ipython",
    "version": 3
   },
   "file_extension": ".py",
   "mimetype": "text/x-python",
   "name": "python",
   "nbconvert_exporter": "python",
   "pygments_lexer": "ipython3",
   "version": "3.10.14"
  },
  "toc": {
   "base_numbering": 1,
   "nav_menu": {},
   "number_sections": true,
   "sideBar": true,
   "skip_h1_title": false,
   "title_cell": "Table of Contents",
   "title_sidebar": "Contents",
   "toc_cell": false,
   "toc_position": {
    "height": "calc(100% - 180px)",
    "left": "10px",
    "top": "150px",
    "width": "318.188px"
   },
   "toc_section_display": true,
   "toc_window_display": true
  },
  "varInspector": {
   "cols": {
    "lenName": 16,
    "lenType": 16,
    "lenVar": 40
   },
   "kernels_config": {
    "python": {
     "delete_cmd_postfix": "",
     "delete_cmd_prefix": "del ",
     "library": "var_list.py",
     "varRefreshCmd": "print(var_dic_list())"
    },
    "r": {
     "delete_cmd_postfix": ") ",
     "delete_cmd_prefix": "rm(",
     "library": "var_list.r",
     "varRefreshCmd": "cat(var_dic_list()) "
    }
   },
   "types_to_exclude": [
    "module",
    "function",
    "builtin_function_or_method",
    "instance",
    "_Feature"
   ],
   "window_display": false
  }
 },
 "nbformat": 4,
 "nbformat_minor": 5
}
